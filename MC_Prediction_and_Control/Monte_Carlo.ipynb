{
 "cells": [
  {
   "cell_type": "code",
   "execution_count": 1,
   "metadata": {},
   "outputs": [],
   "source": [
    "#importing necessary libraries\n",
    "import numpy as np\n",
    "import matplotlib.pyplot as plt\n",
    "import random\n",
    "from tqdm import tqdm"
   ]
  },
  {
   "cell_type": "code",
   "execution_count": 2,
   "metadata": {},
   "outputs": [],
   "source": [
    "#building the environment\n",
    "class Environment:\n",
    "    def __init__(self, M,N, holes, terminal_state): #initializing the environment states, holes, terminals and rewards\n",
    "        self.states = set()\n",
    "        self.shape = (M,N)\n",
    "        self.holes = holes\n",
    "        self.terminal_state = terminal_state\n",
    "        \n",
    "        for i in range(1,M+1):\n",
    "            for j in range(1, N+1):\n",
    "                if (i,j) not in holes:\n",
    "                    self.states.add((i,j))\n",
    "                    \n",
    "        self.rewards = self.initialize_rewards()\n",
    "        self.prob_agent_action = [0.8, 0.1, 0.05, 0.05]\n",
    "    def initialize_rewards(self): #function to initialize the rewards for each state of the environment\n",
    "        r = {}\n",
    "        for state in self.states:\n",
    "            if state == (6,3):\n",
    "                r[state] = -15\n",
    "            elif state == (6,6):\n",
    "                r[state] = 15\n",
    "            else:\n",
    "                r[state] = 0\n",
    "                \n",
    "        return r\n",
    "    \n",
    "    def agent_move(self, s, a): #function to update the state of the agent given an action a and current state s\n",
    "        x, y = s\n",
    "        if a=='U':\n",
    "            x = x-1\n",
    "        elif a=='D':\n",
    "            x = x + 1\n",
    "        elif a=='R':\n",
    "            y = y + 1\n",
    "        elif a=='L':\n",
    "            y = y - 1\n",
    "            \n",
    "        stay_same = self.check_corner_and_hole((x,y))\n",
    "\n",
    "        if stay_same:\n",
    "            return s\n",
    "\n",
    "        return (x,y)\n",
    "\n",
    "    def move_clockwise90(self, a): #function to return the action which is a 90 degree rotation to current action a\n",
    "        if a=='U':\n",
    "            return 'R'\n",
    "        elif a=='R':\n",
    "            return 'D'\n",
    "        elif a=='D':\n",
    "            return 'L'\n",
    "        elif a=='L':\n",
    "            return 'U'\n",
    "        \n",
    "    def move_anti_clockwise90(self, a): #function to return the action which is a 90 degree rotation to current action a\n",
    "        if a=='U':\n",
    "            return 'L'\n",
    "        elif a=='L':\n",
    "            return 'D'\n",
    "        elif a=='D':\n",
    "            return 'R'\n",
    "        elif a=='R':\n",
    "            return 'U'\n",
    "    \n",
    "    def check_corner_and_hole(self, s): \n",
    "        #function to check if the updates state goes out of the gridworld or goes into holes. \n",
    "        #If so, it returns a True value to address that the update should not take place and agent should remain in current state. \n",
    "        x1, y1 = s\n",
    "        stay_same = False\n",
    "        for hole in self.holes:\n",
    "            if (x1,y1) == hole:\n",
    "                stay_same = True\n",
    "\n",
    "        if x1<1 or x1>6:\n",
    "            stay_same = True\n",
    "        if y1<1 or y1>6:\n",
    "            stay_same = True\n",
    "        \n",
    "        return stay_same\n",
    "    \n",
    "    def get_new_state(self, s, a): \n",
    "        #this is the function to take the agent to an update state given the agent's choice of action and current state.\n",
    "        #This encapsulates the dynamics of the environment and is not known to the Monte Carlo agent. The agent only\n",
    "        #produces the current state s and his choice of action a, to which the environment returns his new state s1.\n",
    "        x, y = s\n",
    "        t = random.random()\n",
    "        \n",
    "        if t<=0.8: #agent's action succeeds\n",
    "            x1,y1 = self.agent_move(s,a)\n",
    "            return (x1,y1)\n",
    "        \n",
    "        elif 0.8<t<=0.9: #agent stays in same state\n",
    "            return s\n",
    "        \n",
    "        elif 0.9<t<=0.95: #move in a 90 degree clockwise direction\n",
    "            a1 = self.move_clockwise90(a)\n",
    "            s1 = self.agent_move(s, a1)\n",
    "            return s1\n",
    "        else: #move in a -90 degree clockwise direction\n",
    "            a1 = self.move_anti_clockwise90(a)\n",
    "            s1 = self.agent_move(s, a1)\n",
    "            \n",
    "            return s1\n",
    "            "
   ]
  },
  {
   "cell_type": "code",
   "execution_count": 3,
   "metadata": {},
   "outputs": [],
   "source": [
    "gridworld = Environment(6,6, [(4,3),(5,3)], (6,6))\n"
   ]
  },
  {
   "cell_type": "code",
   "execution_count": 28,
   "metadata": {},
   "outputs": [],
   "source": [
    "#building the Monte Carlo Agent\n",
    "class MC_Agent:\n",
    "    def __init__(self, gamma, env, first_visit = True, epsilon = 0.15):\n",
    "        #initializing the parameters of the agent\n",
    "        self.actions = ['L','R','U','D'] #possible actions\n",
    "        self.gamma = gamma #discount parameter\n",
    "        self.pi = self.initialize_policy(env)\n",
    "        self.V = self.initialize_value_states(env)\n",
    "        self.Q, self.returns, self.returns_pred = self.initialize_Qvalue_and_returns(env)\n",
    "        self.epsilon = epsilon\n",
    "        self.first_visit = first_visit\n",
    "        \n",
    "    def initialize_policy(self,env):\n",
    "        #initializing the policy of the agent to be the policy of taking each action with probability 0.25\n",
    "        pi = {}\n",
    "        for s in env.states:\n",
    "            pi[s] = {}\n",
    "            for a in self.actions:\n",
    "                pi[s][a] = 0.25\n",
    "                \n",
    "        return pi\n",
    "    \n",
    "    def reset(self,env):\n",
    "        #function to reset the parameters learnt by the agent. The agent must reset his parameters in between trials.\n",
    "        #That is, for trial 1 the agent runs M episodes learning the parameters. However, it must reset before trial 2. \n",
    "        for s in env.states:\n",
    "            isTerminal = False\n",
    "            if s == env.terminal_state:\n",
    "                self.V[s] = 15\n",
    "                isTerminal = True\n",
    "            else:\n",
    "                self.V[s] = random.random()\n",
    "                self.returns_pred[s] = []\n",
    "\n",
    "            for a in self.actions:\n",
    "                self.pi[s][a] = 0.25\n",
    "                self.returns[s][a] = []\n",
    "                \n",
    "                if isTerminal:\n",
    "                    self.Q[s][a] = 15\n",
    "                else:\n",
    "                    self.Q[s][a] = random.random()\n",
    "                \n",
    "        \n",
    "    def initialize_Qvalue_and_returns(self, env):\n",
    "        #function to initialize the Q values and returns (both control and prediction) \n",
    "        Q = {}\n",
    "        returns = {}\n",
    "        returns_pred = {}\n",
    "        self.visits = {}\n",
    "        self.returns_pred = {}\n",
    "        \n",
    "        for s in env.states:\n",
    "            Q[s] = {}\n",
    "            returns[s] = {}\n",
    "            self.visits[s] = 0\n",
    "            isTerminal = False\n",
    "            \n",
    "            if s==env.terminal_state:\n",
    "                isTerminal = True\n",
    "            \n",
    "            if not isTerminal:\n",
    "                returns_pred[s] = []\n",
    "                \n",
    "            for a in self.actions:\n",
    "                if isTerminal==True:\n",
    "                    Q[s][a] = 15\n",
    "                else:\n",
    "                    Q[s][a] = random.random()\n",
    "                    \n",
    "                returns[s][a] = []\n",
    "                \n",
    "        return Q, returns, returns_pred\n",
    "    \n",
    "    def initialize_value_states(self, env):\n",
    "        #function to initialize the value of the states\n",
    "        v_s = {}\n",
    "        for state in env.states:\n",
    "            if state == env.terminal_state:\n",
    "                v_s[state] = 15\n",
    "            else:\n",
    "                v_s[state] = random.random()\n",
    "        return v_s\n",
    "    \n",
    "    def possible_actions(self, s):\n",
    "        #function to return the possible actions in a given state\n",
    "        actions = [a for a in self.pi[s]]\n",
    "        return actions\n",
    "    \n",
    "    \n",
    "    \n",
    "    def sample_episode(self, env, start_state = (1,1)):\n",
    "        #function to sample an episode with start state = (1,1) and terminal state = (6,6)\n",
    "        s = start_state\n",
    "        episode = []\n",
    "        \n",
    "        while s!=env.terminal_state:\n",
    "            possible_actions = self.possible_actions(s)\n",
    "            pi_a_s = [self.pi[s][a] for a in possible_actions]\n",
    "            \n",
    "            a = np.random.choice(possible_actions, p = pi_a_s)\n",
    "            #self.visits[s][a] +=1\n",
    "            s1 = env.get_new_state(s,a)\n",
    "            r = env.rewards[s1]\n",
    "            \n",
    "            episode.append((s,a,r))\n",
    "            \n",
    "            s = s1\n",
    "        \n",
    "        episode.append(s)    \n",
    "        return episode\n",
    "    \n",
    "\n",
    "    \n",
    "    def find_first_visits(self,episode):\n",
    "        #function to find the first visit of each state action pair (s,a) in the episode\n",
    "        visits = {}\n",
    "        i = 0\n",
    "        for i in range(len(episode)):\n",
    "            s,a,r = episode[i]\n",
    "            if (s,a) not in visits:\n",
    "                visits[(s,a)] = i\n",
    "                \n",
    "        return visits\n",
    "    \n",
    "    def compute_q_value(self, episode):\n",
    "        #function to update the q(s,a) values for Monte Carlo on policy epsilon soft control algorithm\n",
    "        G = 0\n",
    "        terminal_state = episode.pop()\n",
    "        \n",
    "        T = len(episode)\n",
    "        visits = self.find_first_visits(episode)\n",
    "        \n",
    "        for t in range(T-1, -1, -1):\n",
    "            s,a,r = episode[t]\n",
    "            G = (self.gamma*G) + r\n",
    "            if self.first_visit == True:\n",
    "                if visits[(s,a)]==t:\n",
    "                    self.returns[s][a].append(G)\n",
    "                    self.Q[s][a] = np.mean(self.returns[s][a])\n",
    "            else:\n",
    "                self.returns[s][a].append(G)\n",
    "                self.Q[s][a] = np.mean(self.returns[s][a])\n",
    "    \n",
    "    def find_first_occurence_states(self,episode):\n",
    "        #function to find first occurence of states in Monte Carlo Prediction algorithm\n",
    "        end_state = episode.pop()\n",
    "        n = len(episode)\n",
    "        first_occurences = {}\n",
    "        for i in range(n):\n",
    "            s,a,r = episode[i]\n",
    "            if s not in first_occurences:\n",
    "                first_occurences[s] = i\n",
    "        \n",
    "        return first_occurences\n",
    "    \n",
    "    def MC_Prediction(self, env):\n",
    "        #function for MC Prediction to sample an episode and update value of each state s in the episode\n",
    "        \n",
    "        '''episode_sampled = False\n",
    "        episode = None\n",
    "        while not episode_sampled:\n",
    "            episode = self.sample_episode(env)\n",
    "            if len(episode)<=100:\n",
    "                episode_sampled = True'''\n",
    "        \n",
    "        episode = self.sample_episode(env)\n",
    "        if self.first_visit:\n",
    "            first_occurences_states = self.find_first_occurence_states(episode.copy())\n",
    "        \n",
    "        last_state = episode.pop()\n",
    "        T = len(episode)\n",
    "        G = 0\n",
    "        for t in range(T-1, -1, -1):\n",
    "            s,a,r = episode[t]\n",
    "            G = (self.gamma*G) + r\n",
    "            self.visits[s] +=1\n",
    "            if self.first_visit == True:\n",
    "                if first_occurences_states[s]==t:\n",
    "                    self.returns_pred[s].append(G)\n",
    "                    #self.V[s] = np.mean(self.returns_pred[s])\n",
    "            else:\n",
    "                self.returns_pred[s].append(G)\n",
    "                #self.V[s] = np.mean(self.returns_pred[s])\n",
    "                 \n",
    "        for s,_,_ in episode:\n",
    "            self.V[s] = np.mean(self.returns_pred[s])\n",
    "            \n",
    "    def MC_OnPolicy(self, env):\n",
    "        #MC on Policy control algorithm function to sample an episode, update q(s,a) values and update policy \n",
    "        \n",
    "        '''episode_sampled = False\n",
    "        episode = None\n",
    "        while episode_sampled == False:\n",
    "            episode = self.sample_episode(env)\n",
    "            if len(episode)<=100:\n",
    "                episode_sampled = True'''\n",
    "        \n",
    "        episode = self.sample_episode(env)\n",
    "                \n",
    "        self.compute_q_value(episode.copy())\n",
    "        end_state = episode.pop()\n",
    "        \n",
    "        for s_t,a_t,r in episode:\n",
    "            a_star = self.find_a_star(s_t)\n",
    "            actions_s = self.possible_actions(s_t)\n",
    "            n = len(actions_s)\n",
    "            for a in actions_s:\n",
    "                if a==a_star:\n",
    "                    self.pi[s_t][a] = (1-self.epsilon) + (self.epsilon/n)\n",
    "                else:\n",
    "                    self.pi[s_t][a] = self.epsilon/n\n",
    "                    \n",
    "        \n",
    "                    \n",
    "                    \n",
    "        \n",
    "    def run_episodes(self, env, episodes = 50):\n",
    "        #MC On policy control algorithm for running the agent. It returns the MC Prediction values of state (1,1) across episodes\n",
    "        values = []\n",
    "        for episode_no in tqdm(range(episodes)):\n",
    "            self.MC_OnPolicy(env)\n",
    "            for i in range(50):\n",
    "                self.MC_Prediction(env)\n",
    "            values.append(np.mean(self.returns_pred[(1,1)]))\n",
    "            \n",
    "        return values\n",
    "            \n",
    "                    \n",
    "                \n",
    "                \n",
    "            \n",
    "    def find_a_star(self, s):\n",
    "        #function to find the greedy action based on Q values\n",
    "        a_star = None\n",
    "        max_q_sa = -np.inf\n",
    "        for a in self.Q[s]:\n",
    "            if self.Q[s][a] > max_q_sa:\n",
    "                a_star = a\n",
    "                max_q_sa = self.Q[s][a]\n",
    "                \n",
    "        return a_star\n",
    "            \n",
    "    \n",
    "    def find_optimal_move(self, s):\n",
    "        #function to return the optimal move based on current policy\n",
    "        optimal_moves = []\n",
    "        max_p = 0\n",
    "        for a in self.pi[s]:\n",
    "            if self.pi[s][a] > max_p:\n",
    "                optimal_moves = [a]\n",
    "                max_p = self.pi[s][a]\n",
    "            elif self.pi[s][a] == max_p:\n",
    "                optimal_moves.append(a)\n",
    "                \n",
    "        return optimal_moves\n",
    "    \n",
    "            \n",
    "    def plot_state_and_policy(self, env, plot_state_values = False, label = None):\n",
    "        #function to display the state values and the policy values\n",
    "        plt.figure(figsize = (20, 10))\n",
    "        Grid_plot=plt.subplot()\n",
    "        M,N = env.shape\n",
    "        for i in range(M):\n",
    "            for j in range(N):\n",
    "                s = (i+1, j+1)\n",
    "                if s==env.terminal_state:\n",
    "                    if plot_state_values:\n",
    "                        t = round(self.V[s], 3)\n",
    "                        value = str(s) + \"\\n\\n\" + str(t) + \"\\n\\n\" + \"TERMINAL\"\n",
    "                    else:\n",
    "                        value = \"TERMINAL\"\n",
    "                elif s not in env.holes:\n",
    "                    value=str(s)\n",
    "                    move = self.find_optimal_move(s)\n",
    "                    if plot_state_values==False:\n",
    "                        value = value + '\\n\\n' + ','.join(move)\n",
    "                    else:\n",
    "                        t = round(self.V[s],3)\n",
    "                        value = value + '\\n\\n' + str(t)\n",
    "                else:\n",
    "                    value = \"HOLE\"\n",
    "                \n",
    "                \n",
    "                \n",
    "                Grid_plot.text(j+0.5,N-i-0.5,value,ha='center',va='center')\n",
    "        \n",
    "        Grid_plot.grid(color='k')\n",
    "        Grid_plot.axis('scaled')\n",
    "        Grid_plot.axis([0, M, 0, N])\n",
    "        \n",
    "        Grid_plot.set_yticklabels([])\n",
    "        Grid_plot.set_xticklabels([])\n",
    "        if label is not None:\n",
    "            plt.savefig(label) \n",
    "                \n",
    "            \n",
    "        \n",
    "            "
   ]
  },
  {
   "cell_type": "code",
   "execution_count": 5,
   "metadata": {},
   "outputs": [],
   "source": [
    "def play_MC_prediction(agent, env = gridworld, trials = 100, episodes = 50):\n",
    "    values_s11 = []\n",
    "\n",
    "    for trial in tqdm(range(trials)):\n",
    "        values = []\n",
    "        for episode_no in range(episodes):\n",
    "            agent.MC_Prediction(env)\n",
    "            values.append(np.mean(agent.returns_pred[(1,1)]))\n",
    "        \n",
    "        if trial!= (trials-1):\n",
    "            agent.reset(env)\n",
    "        \n",
    "        values_s11.append(values)\n",
    "    \n",
    "    return values_s11"
   ]
  },
  {
   "cell_type": "code",
   "execution_count": 6,
   "metadata": {},
   "outputs": [
    {
     "name": "stderr",
     "output_type": "stream",
     "text": [
      "100%|████████████████████████████████████████████████████████████████████████████████| 100/100 [00:31<00:00,  3.15it/s]\n"
     ]
    }
   ],
   "source": [
    "agent = MC_Agent(0.9, gridworld, first_visit = True)\n",
    "values_s11 = play_MC_prediction(agent,episodes = 50)"
   ]
  },
  {
   "cell_type": "code",
   "execution_count": 11,
   "metadata": {},
   "outputs": [],
   "source": [
    "def plot_value_s11(values_s11, label = None):\n",
    "        avg_v = np.mean(values_s11, axis = 0)\n",
    "        #print (avg_v[:20])\n",
    "        ts = np.arange(1,(len(avg_v)+1))\n",
    "        plt.plot(ts, avg_v)\n",
    "        plt.xlabel(\"Episode number\")\n",
    "        plt.ylabel(\"Avg value of state (1,1)\")\n",
    "        plt.title(\"Monte Carlo Prediction of value of state (1,1) across episodes\")\n",
    "        if label:\n",
    "            plt.savefig(label)\n",
    "        plt.show()"
   ]
  },
  {
   "cell_type": "code",
   "execution_count": 13,
   "metadata": {},
   "outputs": [
    {
     "data": {
      "image/png": "[encoded data removed]",
      "text/plain": [
       "<Figure size 432x288 with 1 Axes>"
      ]
     },
     "metadata": {
      "needs_background": "light"
     },
     "output_type": "display_data"
    }
   ],
   "source": [
    "plot_value_s11(values_s11, label = 'plots/MC_First_visit_prediction.png')"
   ]
  },
  {
   "cell_type": "code",
   "execution_count": 10,
   "metadata": {},
   "outputs": [
    {
     "data": {
      "text/plain": [
       "-0.4771769300935882"
      ]
     },
     "execution_count": 10,
     "metadata": {},
     "output_type": "execute_result"
    }
   ],
   "source": [
    "np.mean(values_s11,axis = 0)[-1]"
   ]
  },
  {
   "cell_type": "markdown",
   "metadata": {},
   "source": [
    "So, the Monte Carlo first visit Prediction algorithm after running for 50 episodes estimates the value of state(1,1) to be -0.477 for the policy of choosing each action uniformly with a probability of 0.25 which is very close to the optimal value found by the Policy Evaluation algorithm (-0.471). "
   ]
  },
  {
   "cell_type": "code",
   "execution_count": 24,
   "metadata": {},
   "outputs": [
    {
     "name": "stderr",
     "output_type": "stream",
     "text": [
      "100%|████████████████████████████████████████████████████████████████████████████████| 100/100 [00:43<00:00,  2.33it/s]\n"
     ]
    }
   ],
   "source": [
    "agent = MC_Agent(0.9, gridworld, first_visit = False)\n",
    "values_s11 = play_MC_prediction(agent,episodes = 50)"
   ]
  },
  {
   "cell_type": "code",
   "execution_count": 27,
   "metadata": {},
   "outputs": [
    {
     "data": {
      "image/png": "[encoded data removed]",
      "text/plain": [
       "<Figure size 432x288 with 1 Axes>"
      ]
     },
     "metadata": {
      "needs_background": "light"
     },
     "output_type": "display_data"
    }
   ],
   "source": [
    "plot_value_s11(values_s11, label = 'plots/MC_every_visit_prediction.png')"
   ]
  },
  {
   "cell_type": "code",
   "execution_count": 26,
   "metadata": {},
   "outputs": [
    {
     "data": {
      "text/plain": [
       "-0.4699803001771958"
      ]
     },
     "execution_count": 26,
     "metadata": {},
     "output_type": "execute_result"
    }
   ],
   "source": [
    "np.mean(values_s11, axis = 0)[-1]"
   ]
  },
  {
   "cell_type": "markdown",
   "metadata": {},
   "source": [
    "So, the Monte Carlo every visit Prediction algorithm after running for 50 episodes estimates the value of state(1,1) to be -0.4699 for the policy of choosing each action uniformly with a probability of 0.25 which is also very close to the optimal value found by the Policy Evaluation algorithm (-0.471). \n",
    "\n",
    "Thus we can say that both these algorithms (first visit and every visit) are successfully evaluating the value of state (1,1) for the policy of taking each action with equal probability (0.25).  "
   ]
  },
  {
   "cell_type": "markdown",
   "metadata": {},
   "source": [
    "### Monte Carlo Control: On policy epsilon soft\n",
    "\n",
    "For Monte Carlo control, I am using the On Policy epsilon soft algotithm with epsilon value of 0.15. \n",
    "\n",
    "#### First Visit\n",
    "\n",
    "For first visit MC On policy control, I ran the agent for 100 episodes and it gave a near optimal policy where the agent would be able to reach the terminal state following the policy."
   ]
  },
  {
   "cell_type": "code",
   "execution_count": 29,
   "metadata": {},
   "outputs": [
    {
     "name": "stderr",
     "output_type": "stream",
     "text": [
      "100%|████████████████████████████████████████████████████████████████████████████████| 100/100 [00:17<00:00,  5.63it/s]\n"
     ]
    }
   ],
   "source": [
    "agent = MC_Agent(gamma = 0.9, env = gridworld, first_visit = True, epsilon = 0.15)\n",
    "values_s11 = agent.run_episodes(gridworld, episodes = 100)\n"
   ]
  },
  {
   "cell_type": "code",
   "execution_count": 34,
   "metadata": {},
   "outputs": [
    {
     "data": {
      "image/png": "[encoded data removed]",
      "text/plain": [
       "<Figure size 432x288 with 1 Axes>"
      ]
     },
     "metadata": {
      "needs_background": "light"
     },
     "output_type": "display_data"
    }
   ],
   "source": [
    "ts = np.arange(1, len(values_s11)+1)\n",
    "plt.plot(ts,values_s11)\n",
    "plt.xlabel(\"Episode\")\n",
    "plt.ylabel(\"Value of state (1,1)\")\n",
    "plt.title(\"Value of state (1,1) across episodes for on-policy MC control algorithm\")\n",
    "plt.savefig('plots/MC_control_first_visit_state_value')\n",
    "plt.show()"
   ]
  },
  {
   "cell_type": "code",
   "execution_count": 35,
   "metadata": {},
   "outputs": [
    {
     "data": {
      "image/png": "[encoded data removed]",
      "text/plain": [
       "<Figure size 1440x720 with 1 Axes>"
      ]
     },
     "metadata": {
      "needs_background": "light"
     },
     "output_type": "display_data"
    }
   ],
   "source": [
    "agent.plot_state_and_policy(gridworld,label = \"plots/MC_control_first_visit_opt_policy.png\")"
   ]
  },
  {
   "cell_type": "markdown",
   "metadata": {},
   "source": [
    "#### Every Visit\n",
    "\n",
    "For every visit MC On Policy Control algorithm, I ran the agent for 500 episodes, but the agent did not converge to even a near optimal policy as the agent may get stuck in the states (4,1), (6,1) and (6,2). "
   ]
  },
  {
   "cell_type": "code",
   "execution_count": 40,
   "metadata": {},
   "outputs": [
    {
     "name": "stderr",
     "output_type": "stream",
     "text": [
      "100%|████████████████████████████████████████████████████████████████████████████████| 500/500 [09:51<00:00,  1.18s/it]\n"
     ]
    }
   ],
   "source": [
    "agent = MC_Agent(gamma = 0.9, env = gridworld, first_visit = False, epsilon = 0.15)\n",
    "values_s11 = agent.run_episodes(gridworld, episodes = 500)"
   ]
  },
  {
   "cell_type": "code",
   "execution_count": 42,
   "metadata": {},
   "outputs": [
    {
     "data": {
      "image/png": "[encoded data removed]",
      "text/plain": [
       "<Figure size 432x288 with 1 Axes>"
      ]
     },
     "metadata": {
      "needs_background": "light"
     },
     "output_type": "display_data"
    }
   ],
   "source": [
    "ts = np.arange(1, len(values_s11)+1)\n",
    "plt.plot(ts,values_s11)\n",
    "plt.xlabel(\"Episode\")\n",
    "plt.ylabel(\"Value of state (1,1)\")\n",
    "plt.title(\"Value of state (1,1) across episodes for on-policy MC control algorithm\")\n",
    "plt.savefig('plots/MC_control_every_visit_state_value')\n",
    "plt.show()"
   ]
  },
  {
   "cell_type": "code",
   "execution_count": 43,
   "metadata": {},
   "outputs": [
    {
     "data": {
      "image/png": "[encoded data removed]",
      "text/plain": [
       "<Figure size 1440x720 with 1 Axes>"
      ]
     },
     "metadata": {
      "needs_background": "light"
     },
     "output_type": "display_data"
    }
   ],
   "source": [
    "agent.plot_state_and_policy(gridworld, label = \"plots/MC_control_every_visit\")"
   ]
  },
  {
   "cell_type": "code",
   "execution_count": null,
   "metadata": {},
   "outputs": [],
   "source": []
  }
 ],
 "metadata": {
  "kernelspec": {
   "display_name": "Python 3",
   "language": "python",
   "name": "python3"
  },
  "language_info": {
   "codemirror_mode": {
    "name": "ipython",
    "version": 3
   },
   "file_extension": ".py",
   "mimetype": "text/x-python",
   "name": "python",
   "nbconvert_exporter": "python",
   "pygments_lexer": "ipython3",
   "version": "3.7.9"
  }
 },
 "nbformat": 4,
 "nbformat_minor": 4
}
