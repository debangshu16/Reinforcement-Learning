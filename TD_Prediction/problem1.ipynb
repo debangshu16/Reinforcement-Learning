{
 "cells": [
  {
   "cell_type": "markdown",
   "metadata": {},
   "source": [
    "### Problem 1: Td(0) Prediction\n",
    "\n",
    "Here, I have used TD(0) Prediction algorithm to predict the value of the states for the uniform random policy of selecting each action ('left', 'right', 'up', and 'down') with 0.25 probability given a state s. The Td(0) Prediction algorithm is run for 100 episodes during which the value of the states are updated. After, this 100 more episodes are simulated. The squared error at each episode (of these extra 100 simualted episodes) is found using $SE_t = (V_{\\pi}(s) - V(s))^2$ where $V_{\\pi}(s)$ is the true value of the states calculated using policy evaluation and V(s) is the TD estimate of the states. We sum these squares for all states and take the average to have the mean squared error for each extra episodes simulated from 101 to 200. The average of these mean squared errors over these 100 simulated episodes gives us the required mean squared error. Given a value of the step size $\\alpha$, this process is repeated to find the mean squared value error for the given alpha. The plot shows the behaviour of the mean squarred error across different values of alpha."
   ]
  },
  {
   "cell_type": "code",
   "execution_count": 1,
   "metadata": {},
   "outputs": [],
   "source": [
    "#importing necessary libraries\n",
    "import numpy as np\n",
    "import matplotlib.pyplot as plt\n",
    "from tqdm import tqdm\n",
    "import random"
   ]
  },
  {
   "cell_type": "markdown",
   "metadata": {},
   "source": [
    "#### Building the gridworld environment"
   ]
  },
  {
   "cell_type": "code",
   "execution_count": 2,
   "metadata": {},
   "outputs": [],
   "source": [
    "#building the environment\n",
    "class Environment:\n",
    "    def __init__(self, M,N, holes, terminal_state): #initializing the environment states, holes, terminals and rewards\n",
    "        self.states = set()\n",
    "        self.shape = (M,N)\n",
    "        self.holes = holes\n",
    "        self.terminal_state = terminal_state\n",
    "        \n",
    "        for i in range(1,M+1):\n",
    "            for j in range(1, N+1):\n",
    "                if (i,j) not in holes:\n",
    "                    self.states.add((i,j))\n",
    "                    \n",
    "        self.rewards = self.initialize_rewards()\n",
    "        self.prob_agent_action = [0.8, 0.1, 0.05, 0.05]\n",
    "    def initialize_rewards(self): #function to initialize the rewards for each state of the environment\n",
    "        r = {}\n",
    "        for state in self.states:\n",
    "            if state == (6,3):\n",
    "                r[state] = -15\n",
    "            elif state == (6,6):\n",
    "                r[state] = 15\n",
    "            else:\n",
    "                r[state] = 0\n",
    "                \n",
    "        return r\n",
    "    \n",
    "    def agent_move(self, s, a): #function to update the state of the agent given an action a and current state s\n",
    "        x, y = s\n",
    "        if a=='U':\n",
    "            x = x-1\n",
    "        elif a=='D':\n",
    "            x = x + 1\n",
    "        elif a=='R':\n",
    "            y = y + 1\n",
    "        elif a=='L':\n",
    "            y = y - 1\n",
    "            \n",
    "        stay_same = self.check_corner_and_hole((x,y))\n",
    "\n",
    "        if stay_same:\n",
    "            return s\n",
    "\n",
    "        return (x,y)\n",
    "\n",
    "    def move_clockwise90(self, a): #function to return the action which is a 90 degree rotation to current action a\n",
    "        if a=='U':\n",
    "            return 'R'\n",
    "        elif a=='R':\n",
    "            return 'D'\n",
    "        elif a=='D':\n",
    "            return 'L'\n",
    "        elif a=='L':\n",
    "            return 'U'\n",
    "        \n",
    "    def move_anti_clockwise90(self, a): #function to return the action which is a 90 degree rotation to current action a\n",
    "        if a=='U':\n",
    "            return 'L'\n",
    "        elif a=='L':\n",
    "            return 'D'\n",
    "        elif a=='D':\n",
    "            return 'R'\n",
    "        elif a=='R':\n",
    "            return 'U'\n",
    "    \n",
    "    def check_corner_and_hole(self, s): \n",
    "        #function to check if the updates state goes out of the gridworld or goes into holes. \n",
    "        #If so, it returns a True value to address that the update should not take place and agent should remain in current state. \n",
    "        x1, y1 = s\n",
    "        stay_same = False\n",
    "        for hole in self.holes:\n",
    "            if (x1,y1) == hole:\n",
    "                stay_same = True\n",
    "\n",
    "        if x1<1 or x1>6:\n",
    "            stay_same = True\n",
    "        if y1<1 or y1>6:\n",
    "            stay_same = True\n",
    "        \n",
    "        return stay_same\n",
    "    \n",
    "    def get_new_state(self, s, a): \n",
    "        #this is the function to take the agent to an update state given the agent's choice of action and current state.\n",
    "        #This encapsulates the dynamics of the environment and is not known to the agent. The agent only\n",
    "        #produces the current state s and his choice of action a, to which the environment returns his new state s1.\n",
    "        x, y = s\n",
    "        t = random.random()\n",
    "        \n",
    "        if t<=0.8: #agent's action succeeds\n",
    "            x1,y1 = self.agent_move(s,a)\n",
    "            return (x1,y1)\n",
    "        \n",
    "        elif 0.8<t<=0.9: #agent stays in same state\n",
    "            return s\n",
    "        \n",
    "        elif 0.9<t<=0.95: #move in a 90 degree clockwise direction\n",
    "            a1 = self.move_clockwise90(a)\n",
    "            s1 = self.agent_move(s, a1)\n",
    "            return s1\n",
    "        else: #move in a -90 degree clockwise direction\n",
    "            a1 = self.move_anti_clockwise90(a)\n",
    "            s1 = self.agent_move(s, a1)\n",
    "            \n",
    "            return s1\n",
    "            "
   ]
  },
  {
   "cell_type": "code",
   "execution_count": 3,
   "metadata": {},
   "outputs": [],
   "source": [
    "gridworld = Environment(6,6 , [(4,3),(5,3)], (6,6))"
   ]
  },
  {
   "cell_type": "markdown",
   "metadata": {},
   "source": [
    "#### Computing the value of states using Policy Evaluation."
   ]
  },
  {
   "cell_type": "code",
   "execution_count": 4,
   "metadata": {},
   "outputs": [],
   "source": [
    "def compute_value(env = gridworld, epsilon = 1e-8, gamma = 0.9):\n",
    "    #function for policy evaluation to compute value of states for the uniform random policy\n",
    "    delta = np.inf\n",
    "    V = {}\n",
    "    actions = ['L','R','U','D']\n",
    "    pi = {}\n",
    "    \n",
    "    #initializing the value of all states and the uniform random policy of taking each action with prob 0.25\n",
    "    for s in env.states:\n",
    "        V[s] = 0\n",
    "        pi[s] = {}\n",
    "        for a in actions:\n",
    "            pi[s][a] = 0.25\n",
    "\n",
    "    #loop forever till abs(new value - old value) is withing epsilon\n",
    "    while delta > epsilon:\n",
    "        max_diff = -np.inf\n",
    "        for s in env.states:\n",
    "            if s!=env.terminal_state:\n",
    "                v = 0\n",
    "                for a in pi[s]:\n",
    "                    p = pi[s][a]\n",
    "                    #with prob 0.8 take action a to get to state s1 with reward r1\n",
    "                    s1 = env.agent_move(s,a)\n",
    "                    r1 = env.rewards[s1]\n",
    "\n",
    "                    v1 = 0.8 * (r1 + gamma * V[s1])\n",
    "\n",
    "                    #with prob 0.1 stay in same state s\n",
    "                    r2 = env.rewards[s]\n",
    "                    v2 = 0.1 * (r2 + gamma * V[s])\n",
    "\n",
    "                    #with prob 0.05 take action in direction +90 degree clockwise direction\n",
    "                    a3 = env.move_clockwise90(a)\n",
    "                    s3 = env.agent_move(s, a3)\n",
    "                    r3 = env.rewards[s3]\n",
    "                    v3 = 0.05 * (r3 + gamma * V[s3])\n",
    "\n",
    "                    #with prob 0.05 take action in direction -90 degree clockwise direction\n",
    "\n",
    "                    a4 = env.move_anti_clockwise90(a)\n",
    "                    s4 = env.agent_move(s, a4)\n",
    "                    r4 = env.rewards[s4]\n",
    "                    v4 = 0.05 * (r4 + gamma * V[s4])\n",
    "\n",
    "                    v = v + (p * (v1+v2+v3+v4))\n",
    "                    \n",
    "\n",
    "                diff = abs(V[s] - v)\n",
    "                V[s] = v\n",
    "                max_diff = max(max_diff, diff)\n",
    "\n",
    "        delta = max_diff\n",
    "        \n",
    "    return V"
   ]
  },
  {
   "cell_type": "code",
   "execution_count": 5,
   "metadata": {},
   "outputs": [
    {
     "data": {
      "text/plain": [
       "{(1, 3): -0.27642130303408846,\n",
       " (6, 6): 0,\n",
       " (5, 6): 5.428752086365931,\n",
       " (2, 1): -0.7682316919867802,\n",
       " (6, 2): -18.202778672087756,\n",
       " (1, 6): 0.0674715652078087,\n",
       " (5, 1): -5.954288579506516,\n",
       " (2, 5): 0.005714819711983525,\n",
       " (1, 2): -0.40649480892936374,\n",
       " (3, 3): -0.6621033994813392,\n",
       " (5, 5): 0.5071660442594326,\n",
       " (4, 4): -1.2840003336659664,\n",
       " (6, 3): -29.301131575796326,\n",
       " (1, 5): -0.022069683166935392,\n",
       " (3, 6): 0.5918009837333996,\n",
       " (2, 2): -0.6727476405258225,\n",
       " (4, 1): -3.173690884069524,\n",
       " (1, 1): -0.47105368791522395,\n",
       " (6, 4): -14.12843836659732,\n",
       " (3, 2): -1.4395057149396342,\n",
       " (2, 6): 0.1903320760526663,\n",
       " (5, 4): -4.266173444005633,\n",
       " (4, 5): 0.24488791723038597,\n",
       " (5, 2): -7.942819537533008,\n",
       " (1, 4): -0.1502940589464806,\n",
       " (2, 3): -0.40897942059492143,\n",
       " (4, 2): -3.5937713998598255,\n",
       " (6, 5): 0.8716499724036371,\n",
       " (3, 5): 0.08402948769442829,\n",
       " (4, 6): 1.7932887647332514,\n",
       " (6, 1): -9.6867447798331,\n",
       " (3, 1): -1.5402674582274198,\n",
       " (3, 4): -0.4647897341603413,\n",
       " (2, 4): -0.2266104937223239}"
      ]
     },
     "execution_count": 5,
     "metadata": {},
     "output_type": "execute_result"
    }
   ],
   "source": [
    "# V contains the value of states evaluated using policy evaluation and is the true state value for the uniform random policy.\n",
    "# This value is going to be compared with the TD estimate to compute the mean squared error\n",
    "V = compute_value()\n",
    "V"
   ]
  },
  {
   "cell_type": "markdown",
   "metadata": {},
   "source": [
    "#### TD(0) Prediction  "
   ]
  },
  {
   "cell_type": "code",
   "execution_count": 6,
   "metadata": {},
   "outputs": [],
   "source": [
    "#building the TD Agent for TD(0) prediction for the uniform random policy of selecting each action with probability 0.25\n",
    "class TD_Agent:\n",
    "    def __init__(self, alpha, gamma, env):\n",
    "        #initializing the parameters of the agent\n",
    "        self.actions = ['L','R','U','D'] #possible actions\n",
    "        self.alpha = alpha\n",
    "        self.gamma = gamma #discount parameter\n",
    "        self.V = self.initialize_value_states(env)\n",
    "        \n",
    "        \n",
    "    \n",
    "    def initialize_value_states(self, env):\n",
    "        #function to initialize the value of the states\n",
    "        v_s = {}\n",
    "        for state in env.states:\n",
    "            v_s[state] = 0\n",
    "        return v_s\n",
    "    \n",
    "    \n",
    "    def TD_update(self, env, start_state = (1,1)):\n",
    "        #function to update the value of states\n",
    "        s = start_state\n",
    "        while s!= env.terminal_state:\n",
    "            #all actions are possible with uniform proability \n",
    "            a = np.random.choice(self.actions)\n",
    "            s1 = env.get_new_state(s,a)\n",
    "            r = env.rewards[s1]\n",
    "            \n",
    "            delta_t = (r + (self.gamma*self.V[s1])) - self.V[s]\n",
    "            self.V[s] = self.V[s] + (self.alpha * delta_t)\n",
    "            \n",
    "            s = s1\n",
    "        \n",
    "    def play(self, env, episodes = 100):\n",
    "        #function to play the TD agent for 100 episodes\n",
    "        for episode_no in range(episodes):\n",
    "            self.TD_update(env)\n",
    "    \n",
    "            "
   ]
  },
  {
   "cell_type": "markdown",
   "metadata": {},
   "source": [
    "#### Finding mean squared error"
   ]
  },
  {
   "cell_type": "code",
   "execution_count": 12,
   "metadata": {},
   "outputs": [],
   "source": [
    " def find_mse_value_states(agent, V, env = gridworld,start_state = (1,1), episodes = 100):\n",
    "        #function to find the mean squared TD error of each state. \n",
    "        \n",
    "        #td_errors = []\n",
    "        t = 0\n",
    "        td_error_sum = 0\n",
    "        \n",
    "        \n",
    "        \n",
    "        for i in range(episodes):\n",
    "            s = start_state\n",
    "            v_ep = agent.V.copy()\n",
    "            \n",
    "            while s!=env.terminal_state:\n",
    "                t+=1\n",
    "                a = np.random.choice(agent.actions, p = [0.25, 0.25, 0.25, 0.25])\n",
    "                s1 = env.get_new_state(s,a)\n",
    "                r = env.rewards[s1]\n",
    "\n",
    "                v_ep[s] = v_ep[s] + (agent.alpha*(r + (agent.gamma*v_ep[s1]) - v_ep[s]))\n",
    "                #td_error_s = V[s] - agent.V[s] \n",
    "                #td_error_s = r + (agent.gamma* agent.V[s1]) - agent.V[s]\n",
    "                #td_error_sum += (td_error_s**2)\n",
    "                s = s1\n",
    "                \n",
    "            mse_ep = 0\n",
    "            for s in env.states:\n",
    "                error = V[s] - v_ep[s]\n",
    "                mse_ep += (error**2)\n",
    "                \n",
    "            mse_ep/=len(env.states)\n",
    "            td_error_sum +=mse_ep\n",
    "\n",
    "            #mse = td_error_sum/n\n",
    "            #td_errors.append(mse)    \n",
    "        \n",
    "        return (td_error_sum/episodes)"
   ]
  },
  {
   "cell_type": "code",
   "execution_count": 13,
   "metadata": {},
   "outputs": [],
   "source": [
    "def problem1():\n",
    "    alphas = [0.0001, 0.0005, 0.001, 0.002, 0.005, 0.01, 0.02, 0.05, 0.1, 0.2]\n",
    "    #alphas = np.linspace(0.001, 0.1, 100)\n",
    "    mean_squared_td_errors = []\n",
    "    for alpha in tqdm(alphas):\n",
    "        agent = TD_Agent(alpha = alpha, gamma = 0.9, env = gridworld)\n",
    "        agent.play(gridworld)\n",
    "        mse_td_error = find_mse_value_states(agent, V)\n",
    "        mean_squared_td_errors.append(mse_td_error)\n",
    "    \n",
    "    print (\"alpha\\tMSE\")\n",
    "    for i in range(len(alphas)):\n",
    "        print (alphas[i], mean_squared_td_errors[i])\n",
    "        \n",
    "    plt.plot(alphas, mean_squared_td_errors)\n",
    "    plt.xlabel(\"Step Size\")\n",
    "    plt.ylabel(\"Mean squared Td error\")\n",
    "    plt.show()"
   ]
  },
  {
   "cell_type": "code",
   "execution_count": 14,
   "metadata": {},
   "outputs": [
    {
     "name": "stderr",
     "output_type": "stream",
     "text": [
      "100%|██████████████████████████████████████████████████████████████████████████████████| 10/10 [00:05<00:00,  1.87it/s]"
     ]
    },
    {
     "name": "stdout",
     "output_type": "stream",
     "text": [
      "alpha\tMSE\n",
      "0.0001 48.16592267888045\n",
      "0.0005 43.799154455525404\n",
      "0.001 38.47126810969493\n",
      "0.002 35.762218763835634\n",
      "0.005 19.8801459565938\n",
      "0.01 11.034999779449283\n",
      "0.02 2.3004128908537127\n",
      "0.05 0.7810092986815761\n",
      "0.1 3.0720831551284213\n",
      "0.2 5.080750365059172\n"
     ]
    },
    {
     "name": "stderr",
     "output_type": "stream",
     "text": [
      "\n"
     ]
    },
    {
     "data": {
      "image/png": "[encoded data removed]",
      "text/plain": [
       "<Figure size 432x288 with 1 Axes>"
      ]
     },
     "metadata": {
      "needs_background": "light"
     },
     "output_type": "display_data"
    }
   ],
   "source": [
    "problem1()"
   ]
  },
  {
   "cell_type": "code",
   "execution_count": 16,
   "metadata": {},
   "outputs": [
    {
     "data": {
      "text/plain": [
       "-0.4020074711510651"
      ]
     },
     "execution_count": 16,
     "metadata": {},
     "output_type": "execute_result"
    }
   ],
   "source": [
    "agent = TD_Agent(alpha = 0.05, gamma = 0.9, env = gridworld)\n",
    "agent.play(gridworld)\n",
    "    \n",
    "agent.V[(1,1)]"
   ]
  },
  {
   "cell_type": "code",
   "execution_count": null,
   "metadata": {},
   "outputs": [],
   "source": []
  }
 ],
 "metadata": {
  "kernelspec": {
   "display_name": "Python 3",
   "language": "python",
   "name": "python3"
  },
  "language_info": {
   "codemirror_mode": {
    "name": "ipython",
    "version": 3
   },
   "file_extension": ".py",
   "mimetype": "text/x-python",
   "name": "python",
   "nbconvert_exporter": "python",
   "pygments_lexer": "ipython3",
   "version": "3.7.9"
  }
 },
 "nbformat": 4,
 "nbformat_minor": 4
}
